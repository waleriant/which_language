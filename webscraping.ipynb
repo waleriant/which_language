{
 "cells": [
  {
   "cell_type": "code",
   "execution_count": 47,
   "id": "dbf49f24-019f-4158-a407-6994de1bc898",
   "metadata": {},
   "outputs": [],
   "source": [
    "import json\n",
    "import requests\n",
    "from bs4 import BeautifulSoup\n",
    "from random import randrange"
   ]
  },
  {
   "cell_type": "code",
   "execution_count": 48,
   "id": "39549045-28a8-43fb-8125-09106b89ae6d",
   "metadata": {},
   "outputs": [],
   "source": [
    "def delete_tags(str):\n",
    "    pos1 = str.find(\"<\")\n",
    "    pos2 = str.find(\">\")\n",
    "    while (pos1 > -1) and (pos2 > pos1):\n",
    "        str = str.replace(str[pos1:pos2+1],\"\")\n",
    "        pos1 = str.find(\"<\")\n",
    "        pos2 = str.find(\">\")\n",
    "    return str"
   ]
  },
  {
   "cell_type": "code",
   "execution_count": 115,
   "id": "f599ec3d-0267-4a96-b306-6147e51da2bf",
   "metadata": {},
   "outputs": [],
   "source": [
    "def extract_random_languages(my_list_, nb=3):\n",
    "    languages = []\n",
    "    count = 0\n",
    "    while count < nb:\n",
    "        random_nb = randrange(len(my_list_))\n",
    "        language = my_list_[random_nb][\"language\"]\n",
    "        languages.append(language)\n",
    "        count += 1\n",
    "    return languages"
   ]
  },
  {
   "cell_type": "code",
   "execution_count": 50,
   "id": "0cfe3166-0793-4317-a10c-70e834da0771",
   "metadata": {},
   "outputs": [],
   "source": [
    "def extract_urls(languages_, my_list_):\n",
    "    urls = []\n",
    "    while len(urls) < len(languages_):\n",
    "        for language in languages_:\n",
    "            for i in range(len(my_list_)):\n",
    "                dict_temp = my_list_[i]\n",
    "                if dict_temp[\"language\"] == language:\n",
    "                    urls.append(dict_temp[\"url\"])   \n",
    "    return urls"
   ]
  },
  {
   "cell_type": "code",
   "execution_count": 110,
   "id": "e41c75f1-9d8f-429d-9c4d-7fd10ac5265c",
   "metadata": {},
   "outputs": [],
   "source": [
    "def extract_first_sentence(url_):\n",
    "    r = requests.get(url_)\n",
    "    soup = BeautifulSoup(r.text, \"html.parser\")\n",
    "    return delete_tags(soup.find_all(\"p\")[0].text.replace(\"\\n\",\"\"))"
   ]
  },
  {
   "cell_type": "code",
   "execution_count": 121,
   "id": "6fd4789d-83df-40d5-8c48-cc46e42b60fb",
   "metadata": {},
   "outputs": [],
   "source": [
    "def build_mcq(languages_, urls_):\n"
   ]
  },
  {
   "cell_type": "code",
   "execution_count": null,
   "id": "98bf3eac-0e71-4066-bd8b-328ee85488ac",
   "metadata": {},
   "outputs": [],
   "source": []
  },
  {
   "cell_type": "code",
   "execution_count": null,
   "id": "190a95a7-6ae6-4028-8aac-0fdcf3ea3060",
   "metadata": {},
   "outputs": [],
   "source": []
  },
  {
   "cell_type": "code",
   "execution_count": 125,
   "id": "66700f6f-3104-4681-bc67-ca434b091ef5",
   "metadata": {},
   "outputs": [],
   "source": [
    "with open(\"webscraping.json\", \"r\", encoding = \"utf-8\") as f:\n",
    "    my_list = json.loads(f.read())"
   ]
  },
  {
   "cell_type": "code",
   "execution_count": 114,
   "id": "f9ba0bd0-95b1-4331-a92f-c58f8a80414b",
   "metadata": {},
   "outputs": [
    {
     "data": {
      "text/plain": [
       "3"
      ]
     },
     "execution_count": 114,
     "metadata": {},
     "output_type": "execute_result"
    }
   ],
   "source": [
    "len(mcq)"
   ]
  },
  {
   "cell_type": "code",
   "execution_count": null,
   "id": "3960a7e8-f88f-491b-af37-6ddff121dab4",
   "metadata": {},
   "outputs": [],
   "source": []
  }
 ],
 "metadata": {
  "kernelspec": {
   "display_name": "Python 3 (ipykernel)",
   "language": "python",
   "name": "python3"
  },
  "language_info": {
   "codemirror_mode": {
    "name": "ipython",
    "version": 3
   },
   "file_extension": ".py",
   "mimetype": "text/x-python",
   "name": "python",
   "nbconvert_exporter": "python",
   "pygments_lexer": "ipython3",
   "version": "3.12.4"
  }
 },
 "nbformat": 4,
 "nbformat_minor": 5
}
